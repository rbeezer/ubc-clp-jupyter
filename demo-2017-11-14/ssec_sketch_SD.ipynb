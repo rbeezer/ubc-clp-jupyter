{
 "cells": [
  {
   "cell_type": "code",
   "execution_count": 1,
   "metadata": {
    "collapsed": false
   },
   "outputs": [
    {
     "data": {
      "text/html": [
       "<link href=\"http://mathbook.pugetsound.edu/beta/mathbook-content.css\" rel=\"stylesheet\" type=\"text/css\" />\n",
       "<link href=\"https://aimath.org/mathbook/mathbook-add-on.css\" rel=\"stylesheet\" type=\"text/css\" />\n",
       "<link href=\"https://fonts.googleapis.com/css?family=Open+Sans:400,400italic,600,600italic\" rel=\"stylesheet\" type=\"text/css\" />\n",
       "<link href=\"https://fonts.googleapis.com/css?family=Inconsolata:400,700&subset=latin,latin-ext\" rel=\"stylesheet\" type=\"text/css\" />"
      ],
      "text/plain": [
       "<IPython.core.display.HTML object>"
      ]
     },
     "metadata": {},
     "output_type": "display_data"
    }
   ],
   "source": [
    "%%html\n",
    "<link href=\"http://mathbook.pugetsound.edu/beta/mathbook-content.css\" rel=\"stylesheet\" type=\"text/css\" />\n",
    "<link href=\"https://aimath.org/mathbook/mathbook-add-on.css\" rel=\"stylesheet\" type=\"text/css\" />\n",
    "<link href=\"https://fonts.googleapis.com/css?family=Open+Sans:400,400italic,600,600italic\" rel=\"stylesheet\" type=\"text/css\" />\n",
    "<link href=\"https://fonts.googleapis.com/css?family=Inconsolata:400,700&subset=latin,latin-ext\" rel=\"stylesheet\" type=\"text/css\" />"
   ]
  },
  {
   "cell_type": "markdown",
   "metadata": {},
   "source": [
    "**Important:** to view this notebook properly you will need to execute the cell above, which assumes you have an Internet connection.  It should already be selected, or place your cursor anywhere above to select.  Then press the \"Run\" button in the menu bar above (the right-pointing arrowhead), or press Shift-Enter on your keyboard."
   ]
  },
  {
   "cell_type": "markdown",
   "metadata": {},
   "source": [
    "$\\require{cancel}\\newcommand{\\half}{ \\frac{1}{2} }\n",
    "\\newcommand{\\ds}{\\displaystyle}\n",
    "\\newcommand{\\ts}{\\textstyle}\n",
    "\\newcommand{\\es}{ {\\varnothing}}\n",
    "\\newcommand{\\st}{ {\\mbox{ s.t. }} }\n",
    "\\newcommand{\\pow}[1]{ \\mathcal{P}\\left(#1\\right) }\n",
    "\\newcommand{\\set}[1]{ \\left\\{#1\\right\\} }\n",
    "\\newcommand{\\lin}{{\\text{LIN}}}\n",
    "\\newcommand{\\quot}{{\\text{QR}}}\n",
    "\\newcommand{\\simp}{{\\text{SMP}}}\n",
    "\\newcommand{\\diff}[2]{ \\frac{\\mathrm{d}#1}{\\mathrm{d}#2}}\n",
    "\\newcommand{\\bdiff}[2]{ \\frac{\\mathrm{d}}{\\mathrm{d}#2} \\left( #1 \\right)}\n",
    "\\newcommand{\\ddiff}[3]{ \\frac{\\mathrm{d}^#1#2}{\\mathrm{d}{#3}^#1}}\n",
    "\\renewcommand{\\neg}{ {\\sim} }\n",
    "\\newcommand{\\limp}{ {\\;\\Rightarrow\\;} }\n",
    "\\newcommand{\\nimp}{ {\\;\\not\\Rightarrow\\;} }\n",
    "\\newcommand{\\liff}{ {\\;\\Leftrightarrow\\;} }\n",
    "\\newcommand{\\niff}{ {\\;\\not\\Leftrightarrow\\;} }\n",
    "\\newcommand{\\De}{\\Delta}\n",
    "\\newcommand{\\bbbr}{\\mathbb{R}}\n",
    "\\newcommand{\\arccsc}{\\mathop{\\mathrm{arccsc}}}\n",
    "\\newcommand{\\arcsec}{\\mathop{\\mathrm{arcsec}}}\n",
    "\\newcommand{\\arccot}{\\mathop{\\mathrm{arccot}}}\n",
    "\\newcommand{\\erf}{\\mathop{\\mathrm{erf}}}\n",
    "\\newcommand{\\smsum}{\\mathop{{\\ts \\sum}}}\n",
    "\\newcommand{\\YEaxis}[2]{\\draw[help lines] (-#1,0)--(#1,0) node[right]{$x$};\\draw[help lines] (0,-#2)--(0,#2) node[above]{$y$};}\n",
    "\\newcommand{\\YEaaxis}[4]{\\draw[help lines] (-#1,0)--(#2,0) node[right]{$x$};\\draw[help lines] (0,-#3)--(0,#4) node[above]{$y$};}\n",
    "\\newcommand{\\YEtaxis}[4]{\\draw[help lines] (-#1,0)--(#2,0) node[right]{$t$};\\draw[help lines] (0,-#3)--(0,#4) node[above]{$y$};}\n",
    "\\newcommand{\\YExcoord}[2]{\\draw (#1,.2)--(#1,-.2) node[below]{$#2$};}\n",
    "\\newcommand{\\YEycoord}[2]{\\draw (.2,#1)--(-.2,#1) node[left]{$#2$};}\n",
    "\\renewcommand{\\textcolor}[2]{\\color{#1}{#2}}\n",
    "\\newcommand{\\lt}{<}\n",
    "\\newcommand{\\gt}{>}\n",
    "\\newcommand{\\amp}{&}\n",
    "$"
   ]
  },
  {
   "cell_type": "markdown",
   "metadata": {},
   "source": [
    "<div class=\"mathbook-content\"><header title=\"Subsection 4.6.3 Second derivative — concavity\"><h3 class=\"heading hide-type\" alt=\"Subsection 4.6.3 Second derivative — concavity\"><span class=\"type\">Subsection</span><span class=\"codenumber\">4.6.3</span><span class=\"title\">Second derivative — concavity</span></h3><a href=\"ssec_sketch_SD.ipynb\" class=\"permalink\">¶</a></header></div>"
   ]
  },
  {
   "cell_type": "markdown",
   "metadata": {},
   "source": [
    "<div class=\"mathbook-content\"><p id=\"p-4326\">The second derivative $f''(x)$ tells us the rate at which the derivative changes. Perhaps the easiest way to understand how to interpret the sign of the second derivative is to think about what it implies about the slope of the tangent line to the graph of the function. Consider the following sketches of $y=1+x^2$ and $y=-1-x^2\\text{.}$</p></div>"
   ]
  },
  {
   "cell_type": "markdown",
   "metadata": {},
   "source": [
    "<div class=\"mathbook-content\"><div class=\"sidebyside\" id=\"sidebyside-343\"><div class=\"sbsrow\" style=\"margin-left:10%;margin-right:10%;\"><div class=\"sbspanel\" style=\"width:100%;justify-content:flex-start;\"><img src=\"text/figs/sketch3.svg\" width=\"100%\" alt=\"\" /></div></div></div></div>"
   ]
  },
  {
   "cell_type": "markdown",
   "metadata": {},
   "source": [
    "<div class=\"mathbook-content\"><p id=\"p-4327\" /><ul id=\"ul-309\" style=\"list-style-type: disc;\"><li id=\"li-1351\">In the case of $y = f(x) = 1+x^2$ , $f''(x) = 2  \\gt  0\\text{.}$ Notice that this means the slope, $f'(x)\\text{,}$ of the line tangent to the graph at $x$ increases as $x$ increases. Looking at the figure on the left above, we see that the graph always lies above the tangent lines.</li><li id=\"li-1352\">For $y = f(x) = -1-x^2$ , $f''(x) = -2  \\lt  0\\text{.}$ The slope, $f'(x)\\text{,}$ of the line tangent to the graph at $x$ decreases as $x$ increases. Looking at the figure on the right above, we see that the graph always lies below the tangent lines.</li></ul><p> Similarly consider the following sketches of $y=x^{-1/2}$ and $y=\\sqrt{4-x}\\text{:}$</p></div>"
   ]
  },
  {
   "cell_type": "markdown",
   "metadata": {},
   "source": [
    "<div class=\"mathbook-content\"><div class=\"sidebyside\" id=\"sidebyside-344\"><div class=\"sbsrow\" style=\"margin-left:10%;margin-right:10%;\"><div class=\"sbspanel\" style=\"width:100%;justify-content:flex-start;\"><img src=\"text/figs/sketch4.svg\" width=\"100%\" alt=\"\" /></div></div></div></div>"
   ]
  },
  {
   "cell_type": "markdown",
   "metadata": {},
   "source": [
    "<div class=\"mathbook-content\"><p id=\"p-4328\">Both of their derivatives, $-\\frac{1}{2}x^{-3/2}$ and $-\\frac{1}{2}(4-x)^{-1/2}\\text{,}$ are negative, so they are decreasing functions. Examining second derivatives shows some differences. </p><ul id=\"ul-310\" style=\"list-style-type: disc;\"><li id=\"li-1353\">For the first function, $y''(x) = \\frac{3}{4}x^{-5/2} \\gt 0\\text{,}$ so the slopes of tangent lines are increasing with $x$ and the graph lies above its tangent lines.</li><li id=\"li-1354\">However, the second function has $y''(x) = -\\frac{1}{4}(4-x)^{-3/2} \\lt 0$ so the slopes of the tangent lines are decreasing with $x$ and the graph lies below its tangent lines.</li></ul></div>"
   ]
  },
  {
   "cell_type": "markdown",
   "metadata": {},
   "source": [
    "<div class=\"mathbook-content\"><p id=\"p-4329\">More generally</p></div>"
   ]
  },
  {
   "cell_type": "markdown",
   "metadata": {},
   "source": [
    "<div class=\"mathbook-content\"><article class=\"definition-like\" id=\"definition-38\"><h6 class=\"heading\"><span class=\"type\">Definition</span><span class=\"codenumber\">4.6.3</span></h6><p id=\"p-4330\">Let $f(x)$ be a continuous function on the interval $[a,b]$ and suppose its first and second derivatives exist on that interval. </p><ul id=\"ul-311\" style=\"list-style-type: disc;\"><li id=\"li-1355\"><p id=\"p-4331\">If $f''(x) \\gt 0$ for all $a \\lt x \\lt b\\text{,}$ then the graph of $f$ lies above its tangent lines for $a \\lt x \\lt b$ and it is said to be concave up.</p><div class=\"sidebyside\" id=\"sidebyside-345\"><div class=\"sbsrow\" style=\"margin-left:25%;margin-right:25%;\"><div class=\"sbspanel\" style=\"width:100%;justify-content:flex-start;\"><img src=\"text/figs/convexUpBB.svg\" width=\"100%\" alt=\"\" /></div></div></div></li><li id=\"li-1356\"><p id=\"p-4332\">If $f''(x) \\lt 0$ for all $a \\lt x \\lt b\\text{,}$ then the graph of $f$ lies below its tangent lines for $a \\lt x \\lt b$ and it is said to be concave down.</p><div class=\"sidebyside\" id=\"sidebyside-346\"><div class=\"sbsrow\" style=\"margin-left:25%;margin-right:25%;\"><div class=\"sbspanel\" style=\"width:100%;justify-content:flex-start;\"><img src=\"text/figs/convexDownBB.svg\" width=\"100%\" alt=\"\" /></div></div></div></li><li id=\"li-1357\"><p id=\"p-4333\">If $f''(c)=0$ for some $a \\lt c \\lt b\\text{,}$ and the concavity of $f$ changes across $x=c\\text{,}$ then  we call $(c,f(c))$ an inflection point.</p><div class=\"sidebyside\" id=\"sidebyside-347\"><div class=\"sbsrow\" style=\"margin-left:17%;margin-right:17%;\"><div class=\"sbspanel\" style=\"width:100%;justify-content:flex-start;\"><img src=\"text/figs/inflection.svg\" width=\"100%\" alt=\"\" /></div></div></div></li></ul></article></div>"
   ]
  },
  {
   "cell_type": "markdown",
   "metadata": {},
   "source": [
    "<div class=\"mathbook-content\"><p id=\"p-4334\">Note that one might also see the terms </p><ul id=\"ul-312\" style=\"list-style-type: disc;\"><li id=\"li-1358\">“convex” or “convex up” used in place of “concave up”, and</li><li id=\"li-1359\">“concave” or “convex down” used to mean “concave down”.</li></ul><p> To avoid confusion we recommend the reader stick with the terms “concave up” and “concave down”.</p></div>"
   ]
  },
  {
   "cell_type": "markdown",
   "metadata": {},
   "source": [
    "<div class=\"mathbook-content\"><p id=\"p-4335\">Let's now continue Example <a href=\"ssec_sketch_FD.ipynb#eg_sketch_simple_poly\" alt=\"Example 4.6.2 A simple polynomial\" title=\"Example 4.6.2 A simple polynomial\">4.6.2</a> by discussing the concavity of the curve.</p></div>"
   ]
  },
  {
   "cell_type": "markdown",
   "metadata": {},
   "source": [
    "<div class=\"mathbook-content\"><article class=\"example-like\" id=\"example-165\"><h6 class=\"heading\"><span class=\"type\">Example</span><span class=\"codenumber\">4.6.4</span><span class=\"title\">Continuation of <a href=\"ssec_sketch_FD.ipynb#eg_sketch_simple_poly\" alt=\"Example 4.6.2 A simple polynomial\" title=\"Example 4.6.2 A simple polynomial\">4.6.2</a></span></h6><p id=\"p-4336\">Consider again the function</p>\n",
    "\\begin{align*}\n",
    "f(x) &= x^4-6x^3\n",
    "\\end{align*}\n",
    "<ul id=\"ul-313\" style=\"list-style-type: disc;\"><li id=\"li-1360\">Its first derivative is $f'(x)=4x^3-18x^2\\text{,}$ so\n",
    "\\begin{align*}\n",
    "f''(x) &= 12x^2 - 36x = 12x(x-3)\n",
    "\\end{align*}\n",
    "</li><li id=\"li-1361\"><p id=\"p-4337\">Thus the second derivative is zero (and potentially changes sign) at $x=0,3\\text{.}$ Thus we should consider the sign of the second derivative on the following intervals</p>\n",
    "\\begin{align*}\n",
    "(-\\infty,0) && (0,3) && (3,\\infty)\n",
    "\\end{align*}\n",
    "<p>A little algebra gives us</p><div class=\"sidebyside\" id=\"sidebyside-348\"><div class=\"sbsrow\" style=\"margin-left:0%;margin-right:0%;\"><div class=\"sbspanel fixed-width\" style=\"width:100%;justify-content:flex-start;\"><table><tr><td class=\"l m b0 r0 l0 t0 lines\">interval</td><td class=\"l m b0 r0 l0 t0 lines\">$(-\\infty,0)$</td><td class=\"l m b0 r0 l0 t0 lines\">0</td><td class=\"l m b0 r0 l0 t0 lines\">$(0,3)$</td><td class=\"l m b0 r0 l0 t0 lines\">3</td><td class=\"l m b0 r0 l0 t0 lines\">$(3,\\infty)$</td></tr><tr><td class=\"l m b0 r0 l0 t0 lines\">$f''(x)$</td><td class=\"l m b0 r0 l0 t0 lines\">positive</td><td class=\"l m b0 r0 l0 t0 lines\">0</td><td class=\"l m b0 r0 l0 t0 lines\">negative</td><td class=\"l m b0 r0 l0 t0 lines\">0</td><td class=\"l m b0 r0 l0 t0 lines\">positive</td></tr><tr><td class=\"l m b0 r0 l0 t0 lines\">concavity</td><td class=\"l m b0 r0 l0 t0 lines\">up</td><td class=\"l m b0 r0 l0 t0 lines\">inflection</td><td class=\"l m b0 r0 l0 t0 lines\">down</td><td class=\"l m b0 r0 l0 t0 lines\">inflection</td><td class=\"l m b0 r0 l0 t0 lines\">up</td></tr></table></div></div></div><p id=\"p-4338\">Since the concavity changes at both $x=0$ and $x=3\\text{,}$ the following are inflection points</p>\n",
    "\\begin{align*}\n",
    "(0,0) && (3,3^4-6\\times3^3)=(3,-3^4)\n",
    "\\end{align*}\n",
    "</li><li id=\"li-1362\">Putting this together with the information we obtained earlier gives us the following sketch</li></ul><div class=\"sidebyside\" id=\"sidebyside-349\"><div class=\"sbsrow\" style=\"margin-left:10%;margin-right:10%;\"><div class=\"sbspanel\" style=\"width:100%;justify-content:flex-start;\"><img src=\"text/figs/sketch5.svg\" width=\"100%\" alt=\"\" /></div></div></div></article></div>"
   ]
  }
 ],
 "metadata": {
  "kernelspec": {
   "display_name": "Python 2",
   "language": "python",
   "name": "python2"
  },
  "language_info": {
   "codemirror_mode": {
    "name": "ipython",
    "version": 2
   },
   "file_extension": ".py",
   "mimetype": "text/x-python",
   "name": "python",
   "nbconvert_exporter": "python",
   "pygments_lexer": "ipython2",
   "version": "2.7.12+"
  },
  "name": "ssec_sketch_SD.ipynb"
 },
 "nbformat": 4,
 "nbformat_minor": 0
}
