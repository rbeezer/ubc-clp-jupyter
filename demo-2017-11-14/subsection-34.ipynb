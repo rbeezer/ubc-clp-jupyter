{
 "cells": [
  {
   "cell_type": "code",
   "execution_count": null,
   "metadata": {
    "collapsed": true
   },
   "outputs": [],
   "source": [
    "%%html\n",
    "<link href=\"http://mathbook.pugetsound.edu/beta/mathbook-content.css\" rel=\"stylesheet\" type=\"text/css\" />\n",
    "<link href=\"https://aimath.org/mathbook/mathbook-add-on.css\" rel=\"stylesheet\" type=\"text/css\" />\n",
    "<link href=\"https://fonts.googleapis.com/css?family=Open+Sans:400,400italic,600,600italic\" rel=\"stylesheet\" type=\"text/css\" />\n",
    "<link href=\"https://fonts.googleapis.com/css?family=Inconsolata:400,700&subset=latin,latin-ext\" rel=\"stylesheet\" type=\"text/css\" />"
   ]
  },
  {
   "cell_type": "markdown",
   "metadata": {},
   "source": [
    "**Important:** to view this notebook properly you will need to execute the cell above, which assumes you have an Internet connection.  It should already be selected, or place your cursor anywhere above to select.  Then press the \"Run\" button in the menu bar above (the right-pointing arrowhead), or press Shift-Enter on your keyboard."
   ]
  },
  {
   "cell_type": "markdown",
   "metadata": {},
   "source": [
    "$\\require{cancel}\\newcommand{\\half}{ \\frac{1}{2} }\n",
    "\\newcommand{\\ds}{\\displaystyle}\n",
    "\\newcommand{\\ts}{\\textstyle}\n",
    "\\newcommand{\\es}{ {\\varnothing}}\n",
    "\\newcommand{\\st}{ {\\mbox{ s.t. }} }\n",
    "\\newcommand{\\pow}[1]{ \\mathcal{P}\\left(#1\\right) }\n",
    "\\newcommand{\\set}[1]{ \\left\\{#1\\right\\} }\n",
    "\\newcommand{\\lin}{{\\text{LIN}}}\n",
    "\\newcommand{\\quot}{{\\text{QR}}}\n",
    "\\newcommand{\\simp}{{\\text{SMP}}}\n",
    "\\newcommand{\\diff}[2]{ \\frac{\\mathrm{d}#1}{\\mathrm{d}#2}}\n",
    "\\newcommand{\\bdiff}[2]{ \\frac{\\mathrm{d}}{\\mathrm{d}#2} \\left( #1 \\right)}\n",
    "\\newcommand{\\ddiff}[3]{ \\frac{\\mathrm{d}^#1#2}{\\mathrm{d}{#3}^#1}}\n",
    "\\renewcommand{\\neg}{ {\\sim} }\n",
    "\\newcommand{\\limp}{ {\\;\\Rightarrow\\;} }\n",
    "\\newcommand{\\nimp}{ {\\;\\not\\Rightarrow\\;} }\n",
    "\\newcommand{\\liff}{ {\\;\\Leftrightarrow\\;} }\n",
    "\\newcommand{\\niff}{ {\\;\\not\\Leftrightarrow\\;} }\n",
    "\\newcommand{\\De}{\\Delta}\n",
    "\\newcommand{\\bbbr}{\\mathbb{R}}\n",
    "\\newcommand{\\arccsc}{\\mathop{\\mathrm{arccsc}}}\n",
    "\\newcommand{\\arcsec}{\\mathop{\\mathrm{arcsec}}}\n",
    "\\newcommand{\\arccot}{\\mathop{\\mathrm{arccot}}}\n",
    "\\newcommand{\\erf}{\\mathop{\\mathrm{erf}}}\n",
    "\\newcommand{\\smsum}{\\mathop{{\\ts \\sum}}}\n",
    "\\newcommand{\\YEaxis}[2]{\\draw[help lines] (-#1,0)--(#1,0) node[right]{$x$};\\draw[help lines] (0,-#2)--(0,#2) node[above]{$y$};}\n",
    "\\newcommand{\\YEaaxis}[4]{\\draw[help lines] (-#1,0)--(#2,0) node[right]{$x$};\\draw[help lines] (0,-#3)--(0,#4) node[above]{$y$};}\n",
    "\\newcommand{\\YEtaxis}[4]{\\draw[help lines] (-#1,0)--(#2,0) node[right]{$t$};\\draw[help lines] (0,-#3)--(0,#4) node[above]{$y$};}\n",
    "\\newcommand{\\YExcoord}[2]{\\draw (#1,.2)--(#1,-.2) node[below]{$#2$};}\n",
    "\\newcommand{\\YEycoord}[2]{\\draw (.2,#1)--(-.2,#1) node[left]{$#2$};}\n",
    "\\renewcommand{\\textcolor}[2]{\\color{#1}{#2}}\n",
    "\\newcommand{\\lt}{<}\n",
    "\\newcommand{\\gt}{>}\n",
    "\\newcommand{\\amp}{&}\n",
    "$"
   ]
  },
  {
   "cell_type": "markdown",
   "metadata": {},
   "source": [
    "<div class=\"mathbook-content\"><header title=\"Subsection 3.9.3 Chain Rule Examples\"><h3 class=\"heading hide-type\" alt=\"Subsection 3.9.3 Chain Rule Examples\"><span class=\"type\">Subsection</span><span class=\"codenumber\">3.9.3</span><span class=\"title\">Chain Rule Examples</span></h3></header></div>"
   ]
  },
  {
   "cell_type": "markdown",
   "metadata": {},
   "source": [
    "<div class=\"mathbook-content\"><p id=\"p-1844\">We'll now use the chain rule to compute some more derivatives.</p></div>"
   ]
  },
  {
   "cell_type": "markdown",
   "metadata": {},
   "source": [
    "<div class=\"mathbook-content\"><article class=\"example-like\" id=\"eg_DIFFchainA\"><h6 class=\"heading\"><span class=\"type\">Example</span><span class=\"codenumber\">3.9.11</span><span class=\"title\">$\\diff{}{x}\\big(1+3x\\big)^{75}$</span></h6><p id=\"p-1845\">Find $\\diff{}{x}\\big(1+3x\\big)^{75}\\text{.}$</p><p id=\"p-1846\">This is a concrete version of Example <a href=\"subsection-32.ipynb#eg_DIFFchainaxb\" alt=\"Example 3.9.8 Derivative of $f(ax+b)$\" title=\"Example 3.9.8 Derivative of $f(ax+b)$\">3.9.8</a>. We are to find the derivative of a function that is built up by first computing $1+3x$ and then taking the $75^{\\rm th}$ power of the result. So we set</p>\n",
    "\\begin{align*}\n",
    "f(u)&=u^{75} &\n",
    "f'(u)&=75 u^{74} \\\\\n",
    "g(x)&=1+3x &\n",
    "g'(x)&=3 \\\\\n",
    "F(x)&=f\\big(g(x)\\big)=g(x)^{75}=\\big(1+3x\\big)^{75}\n",
    "\\end{align*}\n",
    "<p>By the chain rule</p>\n",
    "\\begin{align*}\n",
    "F'(x)&= f'\\big(g(x)\\big)\\,g'(x)\n",
    "= 75\\, g(x)^{74} \\,g'(x)\n",
    "= 75\\, \\big(1+3x\\big)^{74} \\cdot 3 \\\\\n",
    "&= 225\\, \\big(1+3x\\big)^{74}\n",
    "\\end{align*}\n",
    "</article></div>"
   ]
  },
  {
   "cell_type": "markdown",
   "metadata": {},
   "source": [
    "<div class=\"mathbook-content\"><article class=\"example-like\" id=\"eg_DIFFchainB\"><h6 class=\"heading\"><span class=\"type\">Example</span><span class=\"codenumber\">3.9.12</span><span class=\"title\">$\\diff{}{x}\\sin(x^2)$</span></h6><p id=\"p-1847\">Find $\\diff{}{x}\\sin(x^2)\\text{.}$</p><p id=\"p-1848\">In this example we are to compute the derivative of $\\sin$ with a (slightly) complicated argument. So we apply the chain rule with $f$ being $\\sin$ and $g(x)$ being the complicated argument. That is, we set</p>\n",
    "\\begin{align*}\n",
    "f(u)&=\\sin u &\n",
    "f'(u)&=\\cos u \\\\\n",
    "g(x)&=x^2 &\n",
    "g'(x)&=2x \\\\\n",
    "F(x)&=f\\big(g(x)\\big)=\\sin\\big(g(x)\\big)=\\sin(x^2)\n",
    "\\end{align*}\n",
    "<p>By the chain rule</p>\n",
    "\\begin{align*}\n",
    "F'(x)&= f'\\big(g(x)\\big)\\,g'(x)\n",
    "= \\cos\\big(g(x)\\big) \\,g'(x)\n",
    "= \\cos(x^2) \\cdot 2x \\\\\n",
    "&= 2x\\cos(x^2)\n",
    "\\end{align*}\n",
    "</article></div>"
   ]
  },
  {
   "cell_type": "markdown",
   "metadata": {},
   "source": [
    "<div class=\"mathbook-content\"><article class=\"example-like\" id=\"eg_DIFFchainC\"><h6 class=\"heading\"><span class=\"type\">Example</span><span class=\"codenumber\">3.9.13</span><span class=\"title\">$\\diff{}{x}\\root{3}\\of{\\sin(x^2)}$</span></h6><p id=\"p-1849\">Find $\\diff{}{x}\\root{3}\\of{\\sin(x^2)}\\text{.}$</p><p id=\"p-1850\">In this example we are to compute the derivative of the cube root of a (moderately) complicated argument, namely $\\sin(x^2)\\text{.}$ So we apply the chain rule with $f$ being “cube root” and $g(x)$ being the complicated argument. That is, we set</p>\n",
    "\\begin{align*}\n",
    "f(u)&=\\root{3}\\of{u}=u^{\\tfrac{1}{3}} &\n",
    "f'(u)&=\\tfrac{1}{3}u^{-\\tfrac{2}{3}} \\\\\n",
    "g(x)&=\\sin(x^2) &\n",
    "g'(x)&=2x\\cos(x^2) \\\\\n",
    "F(x)&=f\\big(g(x)\\big)=\\root{3}\\of{g(x)}=\\root{3}\\of{\\sin(x^2)}\n",
    "\\end{align*}\n",
    "<p>In computing $g'(x)$ here, we have already used the chain rule once (in Example <a href=\"subsection-34.ipynb#eg_DIFFchainB\" alt=\"Example 3.9.12 $\\diff{}{x}\\sin(x^2)$\" title=\"Example 3.9.12 $\\diff{}{x}\\sin(x^2)$\">3.9.12</a>). By the chain rule</p>\n",
    "\\begin{align*}\n",
    "F'(x)&= f'\\big(g(x)\\big)\\,y'(x)\n",
    "= \\tfrac{1}{3} g(x)^{-\\tfrac{2}{3}} \\cdot 2x\\cos(x^2) \\\\\n",
    "&= \\frac{2x}{3}\\,\\frac{\\cos(x^2)}{[\\sin(x^2)]^{\\frac{2}{3}}}\n",
    "\\end{align*}\n",
    "</article></div>"
   ]
  },
  {
   "cell_type": "markdown",
   "metadata": {},
   "source": [
    "<div class=\"mathbook-content\"><article class=\"example-like\" id=\"example-84\"><h6 class=\"heading\"><span class=\"type\">Example</span><span class=\"codenumber\">3.9.14</span><span class=\"title\">Derivative of a double-composition</span></h6><p id=\"p-1851\">Find the derivative of $\\diff{}{x} f(g(h(x)))\\text{.}$</p><p id=\"p-1852\">This is very similar to the previous example. Let us set $F(x) = f(g(h(x)))$ with $u=g(h(x))$ then the chain rule tells us</p>\n",
    "\\begin{align*}\n",
    "\\diff{F}{x} &= \\diff{f}{u} \\cdot \\diff{u}{x} \\\\\n",
    "&= f'(g(h(x))) \\cdot \\diff{}{x} g(h(x))\\\\\n",
    "\\end{align*}\n",
    "<p class=\"intertext\">We now just apply the chain rule again</p>\n",
    "\\begin{align*}\n",
    "&= f'(g(h(x))) \\cdot g'(h(x)) \\cdot h'(x).\n",
    "\\end{align*}\n",
    "<p>Indeed it is not too hard to generalise further (in the manner of Example <a href=\"subsection-22.ipynb#eg_DIFFsimpleToolsA\" alt=\"Example 3.6.6 Extending the product rule to more than two factors\" title=\"Example 3.6.6 Extending the product rule to more than two factors\">3.6.6</a> to find the derivative of the composition of 4 or more functions (though things start to become tedious to write down):</p>\n",
    "\\begin{align*}\n",
    "\\diff{}{x} f_1(f_2(f_3(f_4(x))))\n",
    "&= f'_1(f_2(f_3(f_4(x)))) \\cdot \\diff{}{x} f_2(f_3(f_4(x))) \\\\\n",
    "&= f'_1(f_2(f_3(f_4(x)))) \\cdot f'_2(f_3(f_4(x))) \\cdot \\diff{}{x} f_3(f_4(x))\\\\\n",
    "&= f'_1(f_2(f_3(f_4(x)))) \\cdot f'_2(f_3(f_4(x))) \\cdot f'_3(f_4(x)) \\cdot \n",
    "f'_4(x)\n",
    "\\end{align*}\n",
    "</article></div>"
   ]
  },
  {
   "cell_type": "markdown",
   "metadata": {},
   "source": [
    "<div class=\"mathbook-content\"><article class=\"example-like\" id=\"example-85\"><h6 class=\"heading\"><span class=\"type\">Example</span><span class=\"codenumber\">3.9.15</span><span class=\"title\">Finding the quotient rule from the chain rule</span></h6><p id=\"p-1853\">We can also use the chain rule to recover Corollary <a href=\"subsection-18.ipynb#cor_diff_recip\" alt=\"Corollary 3.4.6 Derivative of a reciprocal\" title=\"Corollary 3.4.6 Derivative of a reciprocal\">3.4.6</a> and from there we can use the product rule to recover the quotient rule.</p><p id=\"p-1854\">We want to differentiate $F(x) = \\frac{1}{g(x)}$ so set $f(u) = \\frac{1}{u}$ and $u=g(x)\\text{.}$ Then the chain rule tells us</p>\n",
    "\\begin{align*}\n",
    "\\diff{}{x} \\left\\{\\frac{1}{g(x)}\\right\\} = \\diff{F}{x}  \n",
    "&= \\diff{f}{u} \\cdot \\diff{u}{x} \\\\\n",
    "&= \\frac{-1}{u^2} \\cdot g'(x) \\\\\n",
    "&= -\\frac{g'(x)}{g(x)^2}.\n",
    "\\end{align*}\n",
    "<p>Once we know this, a quick application of the product rule will give us the quotient rule.</p>\n",
    "\\begin{align*}\n",
    "\\diff{}{x} \\left\\{ \\frac{f(x)}{g(x)} \\right\\}\n",
    "&= \\diff{}{x} \\left\\{ f(x) \\cdot \\frac{1}{g(x)}  \\right\\} & \\text{use PR}\\\\\n",
    "&= f'(x)\\cdot \\frac{1}{g(x)}  + f(x) \\cdot \\diff{}{x} \\left\\{\\frac{1}{g(x)}\\right\\} &\n",
    "\\text{use the result from above} \\\\\n",
    "&= f'(x)\\cdot \\frac{1}{g(x)}  - f(x) \\cdot \\frac{g'(x)}{g(x)^2} &\n",
    "\\text{place over a common denominator}\\\\\n",
    "&= \\frac{f'(x) \\cdot g(x) - f(x) \\cdot g'(x)}{g(x)^2}\n",
    "\\end{align*}\n",
    "<p>which is exactly the quotient rule.</p></article></div>"
   ]
  },
  {
   "cell_type": "markdown",
   "metadata": {},
   "source": [
    "<div class=\"mathbook-content\"><article class=\"example-like\" id=\"eg_DIFFchainD\"><h6 class=\"heading\"><span class=\"type\">Example</span><span class=\"codenumber\">3.9.16</span><span class=\"title\">A nice messy example</span></h6><p id=\"p-1855\">Compute the following derivative:</p>\n",
    "\\begin{gather*}\n",
    "\\diff{}{x}\\cos\\left(\\frac{x^5\\sqrt{3+x^6}}{{(4+x^2)}^3}\\right)\n",
    "\\end{gather*}\n",
    "<p id=\"p-1856\">This time we are to compute the derivative of $\\cos$ with a really complicated argument. </p><ul id=\"ul-130\" style=\"list-style-type: disc;\"><li id=\"li-499\">So, to start, we apply the chain rule with $g(x)=\\frac{x^5\\sqrt{3+x^6}}{{(4+x^2)}^3}$ being the really complicated argument and $f$ being $\\cos\\text{.}$ That is, $f(u)=\\cos(u)\\text{.}$ Since  $f'(u)=-\\sin(u)\\text{,}$ the chain rule gives\n",
    "\\begin{gather*}\n",
    "\\diff{}{x}\\cos\\bigg(\\frac{x^5\\sqrt{3+x^6}}{{(4+x^2)}^3}\\,\\bigg)\n",
    "=-\\sin\\bigg(\\frac{x^5\\sqrt{3+x^6}}{{(4+x^2)}^3}\\,\\bigg)\\ \n",
    "\\diff{}{x} \\left\\{\\frac{x^5\\sqrt{3+x^6}}{{(4+x^2)}^3} \\right\\}\n",
    "\\end{gather*}\n",
    "</li><li id=\"li-500\">This reduced our problem to that of computing the derivative of the really complicated argument $\\tfrac{x^5\\sqrt{3+x^6}}{{(4+x^2)}^3}\\text{.}$ We can think of the argument as being built up out of three pieces, namely $x^5\\text{,}$ multiplied by $\\sqrt{3+x^6}\\text{,}$ divided by ${(4+x^2)}^3\\text{,}$ or, equivalently, multiplied by ${(4+x^2)}^{-3}\\text{.}$ So we may rewrite $\\tfrac{x^5\\sqrt{3+x^6}}{{(4+x^2)}^3}$ as $x^5\\,\\big(3+x^6\\big)^{\\frac{1}{2}}\\ {(4+x^2)}^{-3}\\text{,}$ and then apply the product rule to reduce the problem to that of computing the derivatives of the three pieces.</li><li id=\"li-501\">Here goes (recall Example <a href=\"subsection-22.ipynb#eg_DIFFsimpleToolsA\" alt=\"Example 3.6.6 Extending the product rule to more than two factors\" title=\"Example 3.6.6 Extending the product rule to more than two factors\">3.6.6</a>):\n",
    "\\begin{align*}\n",
    "\\diff{}{x}\\big[x^5\\,{(3+x^6)}^{\\frac{1}{2}}\\ {(4+x^2)}^{-3}\\big]\n",
    "&=\\diff{}{x}\\big[x^5\\big] \\cdot {(3+x^6)}^{\\frac{1}{2}}\\cdot {(4+x^2)}^{-3}\\\\\n",
    "&\\phantom{=} +x^5\\cdot \\diff{}{x}\\big[{(3+x^6)}^{\\frac{1}{2}}\\big]\n",
    "\\cdot {(4+x^2)}^{-3} \\\\\n",
    "&\\phantom{=} +x^5\\cdot {(3+x^6)}^{\\frac{1}{2}}\\cdot \n",
    "\\diff{}{x}\\big[{(4+x^2)}^{-3}\\big] \n",
    "\\end{align*}\n",
    "This has reduced our problem to computing the derivatives of $x^5\\text{,}$ which is easy, and of ${(3+x^6)}^{\\frac{1}{2}}$ and ${(4+x^2)}^{-3}\\text{,}$ both of which can be done by the chain rule. Doing so,\n",
    "\\begin{align*}\n",
    "\\diff{}{x}\\big[x^5\\,{(3+x^6)}^{\\frac{1}{2}}\\ {(4+x^2)}^{-3}\\big]\n",
    "&=\\overbrace{\\diff{}{x}\\big[x^5\\big]}^{5x^4}\n",
    "\\cdot{(3+x^6)}^{\\frac{1}{2}}\\cdot {(4+x^2)}^{-3}\\\\\n",
    "& \\phantom{=}+x^5\\cdot\n",
    "\\overbrace{\\diff{}{x}\\big[{(3+x^6)}^{\\frac{1}{2}}\\big]}^\n",
    "{\\frac{1}{2}(3+x^6)^{-\\frac{1}{2}}\\cdot 6x^5}\n",
    "\\cdot {(4+x^2)}^{-3} \\\\\n",
    "&\\phantom{=} +x^5\\cdot{(3+x^6)}^{\\frac{1}{2}}\\cdot\n",
    "\\overbrace{\\diff{}{x}\\big[{(4+x^2)}^{-3}\\big]}^\n",
    "{-3{(4+x^2)}^{-4}\\cdot 2x}\n",
    "\\end{align*}\n",
    "</li><li id=\"li-502\"><p id=\"p-1857\">Now we can clean things up in a sneaky way by observing </p><ul id=\"ul-131\" style=\"list-style-type: circle;\"><li id=\"li-503\">differentiating $x^5\\text{,}$ to get $5x^4\\text{,}$ is the same as multiplying $x^5$ by $\\frac{5}{x}\\text{,}$ and</li><li id=\"li-504\">differentiating ${(3+x^6)}^{\\frac{1}{2}}$ to get $\\frac{1}{2}(3+x^6)^{-\\frac{1}{2}}\\cdot 6x^5$ is the same as multiplying ${(3+x^6)}^{\\frac{1}{2}}$ by  $\\frac{3x^5}{3+x^6}\\text{,}$ and</li><li id=\"li-505\">differentiating ${(4+x^2)}^{-3}$ to get  $-3{(4+x^2)}^{-4}\\cdot 2x$ is the same as multiplying ${(4+x^2)}^{-3}$ by $-\\frac{6x}{4+x^2}\\text{.}$</li></ul><p> Using these sneaky tricks we can write our solution quite neatly:</p>\n",
    "\\begin{gather*}\n",
    "\\diff{}{x}\\cos\\bigg(\\frac{x^5\\sqrt{3+x^6}}{{(4+x^2)}^3}\\,\\bigg)\n",
    "=-\\sin\\bigg(\\frac{x^5\\sqrt{3+x^6}}{{(4+x^2)}^3}\\,\\bigg)\\ \n",
    "\\frac{x^5\\sqrt{3+x^6}}{{(4+x^2)}^3}\\ \n",
    "\\bigg\\{\\frac{5}{x}+\\frac{3x^5}{3+x^6}-\\frac{6x}{4+x^2}\\bigg\\}\n",
    "\\end{gather*}\n",
    "</li><li id=\"li-506\">This method of cleaning up the derivative of a messy product is actually something more systematic in disguise — namely logarithmic differentiation. We will come to this later.</li></ul></article></div>"
   ]
  },
  {
   "cell_type": "code",
   "execution_count": null,
   "metadata": {
    "collapsed": true
   },
   "outputs": [],
   "source": []
  }
 ],
 "metadata": {
  "kernelspec": {
   "display_name": "Python 2",
   "language": "python",
   "name": "python2"
  },
  "language_info": {
   "codemirror_mode": {
    "name": "ipython",
    "version": 2
   },
   "file_extension": ".py",
   "mimetype": "text/x-python",
   "name": "python",
   "nbconvert_exporter": "python",
   "pygments_lexer": "ipython2",
   "version": "2.7.12+"
  },
  "name": "subsection-34.ipynb"
 },
 "nbformat": 4,
 "nbformat_minor": 0
}
