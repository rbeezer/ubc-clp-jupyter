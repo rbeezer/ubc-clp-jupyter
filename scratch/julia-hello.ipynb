{
"cells": [
{"cell_type":    "code", "execution_count":null, "metadata":{}, "source":["%%html\n<link href=\"http://mathbook.pugetsound.edu/beta/mathbook-content.css\" rel=\"stylesheet\" type=\"text/css\" />\n<link href=\"https://aimath.org/mathbook/mathbook-add-on.css\" rel=\"stylesheet\" type=\"text/css\" />\n<link href=\"https://fonts.googleapis.com/css?family=Open+Sans:400,400italic,600,600italic\" rel=\"stylesheet\" type=\"text/css\" />\n<link href=\"https://fonts.googleapis.com/css?family=Inconsolata:400,700&subset=latin,latin-ext\" rel=\"stylesheet\" type=\"text/css\" />"], "outputs":[]},
{"cell_type":"markdown", "metadata":{}, "source":["**Important:** to view this notebook properly you will need to execute the cell above, which assumes you have an Internet connection.  It should already be selected, or place your cursor anywhere above to select.  Then press the \"Run\" button in the menu bar above (the right-pointing arrowhead), or press Shift-Enter on your keyboard."]},
{"cell_type":"markdown", "metadata":{}, "source":["$\\newcommand{\\doubler}[1]{2#1}\n\\newcommand{\\lt}{<}\n\\newcommand{\\gt}{>}\n\\newcommand{\\amp}{&}\n$"]},
{"cell_type":"markdown", "metadata":{}, "source":["<div class=\"mathbook-content\"><h1 class=\"heading\"><span class=\"title\">A Minimal Article about Julia</span></h1><div class=\"author\"><div class=\"author-name\">Robert A. Beezer</div><div class=\"author-info\">University of Puget Sound</div></div><time class=\"date\">February 3, 2018</time></div>"]},
{"cell_type":"markdown", "metadata":{}, "source":["<div class=\"mathbook-content\"></div>"]},
{"cell_type":"markdown", "metadata":{}, "source":["<div class=\"mathbook-content\"></div>"]},
{"cell_type":"markdown", "metadata":{}, "source":["<div class=\"mathbook-content\"><p id=\"p-2\">This is a short paragraph to introduce the article (but it is not the abstract).  It is optional, in case it would be preferable to have the first section be titled an “Introduction.”</p></div>"]},
{"cell_type":"markdown", "metadata":{}, "source":["<div class=\"mathbook-content\"><h2 class=\"heading hide-type\" alt=\"Section 1 Just Some Text\"><span class=\"type\">Section</span><span class=\"codenumber\">1</span><span class=\"title\">Just Some Text</span></h2><a href=\"julia-hello.ipynb#section-textual\" class=\"permalink\">¶</a></div>"]},
{"cell_type":"markdown", "metadata":{}, "source":["<div class=\"mathbook-content\"><p id=\"p-3\">Now a single paragraph inside a titled section of the article.</p></div>"]},
{"cell_type":"markdown", "metadata":{}, "source":["<div class=\"mathbook-content\"><h2 class=\"heading hide-type\" alt=\"Section 2 A Bit More Interesting\"><span class=\"type\">Section</span><span class=\"codenumber\">2</span><span class=\"title\">A Bit More Interesting</span></h2><a href=\"julia-hello.ipynb#section-interesting\" class=\"permalink\">¶</a></div>"]},
{"cell_type":"markdown", "metadata":{}, "source":["<div class=\"mathbook-content\"><p id=\"p-4\">The previous section (<a href=\"julia-hello.ipynb#section-textual\" class=\"xref\" alt=\"Section 1 Just Some Text\" title=\"Section 1 Just Some Text\">Section 1</a>) was a bit boring.</p></div>"]},
{"cell_type":"markdown", "metadata":{}, "source":["<div class=\"mathbook-content\"><p id=\"p-5\">This paragraph has some inline math, a Diophantine equation, $x^2 + \\doubler{y^2} = z^2\\text{.}$  And some display math about infinite series:</p><div class=\"displaymath\">\n\\begin{equation*}\n\\sum_{n=1}^\\infty\\,\\frac{1}{n^2} = \\frac{\\pi^2}{6}.\n\\end{equation*}\n</div><p>Look at the XML source to see how <span class=\"latex-logo\">L<span class=\"A\">a</span>T<span class=\"E\">e</span>X</span> macros are employed universally across all possible output formats.</p></div>"]},
{"cell_type":"markdown", "metadata":{}, "source":["<div class=\"mathbook-content\"><h2 class=\"heading hide-type\" alt=\"Section 3 Computation\"><span class=\"type\">Section</span><span class=\"codenumber\">3</span><span class=\"title\">Computation</span></h2><a href=\"julia-hello.ipynb#section-computation\" class=\"permalink\">¶</a></div>"]},
{"cell_type":"markdown", "metadata":{}, "source":["<div class=\"mathbook-content\"><p id=\"p-6\">The following is a chunk of Sage code.  Your output format will dictate what you see next.  In print, you will see expected output.  In HTML you will have an executable, and editable, Sage Cell to work with.  In a SageMathCloud worksheet, you will be able to execute and edit the code with all the other features of SageMathCloud.  Note that if you include the expected output in your source, then you can test the example to verify that the behavior of Sage has not changed.</p></div>"]},
{"cell_type":    "code", "execution_count":null, "metadata":{}, "source":["A = matrix(4,5, srange(20))\nA.rref()"], "outputs":[]},
{"cell_type":"markdown", "metadata":{}, "source":["<div class=\"mathbook-content\"><h2 class=\"heading hide-type\" alt=\"Section 4 Julia\"><span class=\"type\">Section</span><span class=\"codenumber\">4</span><span class=\"title\">Julia</span></h2><a href=\"julia-hello.ipynb#section-julia\" class=\"permalink\">¶</a></div>"]},
{"cell_type":"markdown", "metadata":{}, "source":["<div class=\"mathbook-content\"><p id=\"p-7\">And now a section about programming with Julia, taken from <a class=\"url\" href=\"https://juliabyexample.helpmanual.io/\" target=\"_blank\"><code class=\"code-inline tex2jax_ignore\">juliabyexample.helpmanual.io/</code></a>.</p></div>"]},
{"cell_type":"markdown", "metadata":{}, "source":["<div class=\"mathbook-content\"><p id=\"p-8\">The classic.</p></div>"]},
{"cell_type":"markdown", "metadata":{}, "source":["<div class=\"mathbook-content\"></div>"]},
{"cell_type":"markdown", "metadata":{}, "source":["<div class=\"mathbook-content\"><p id=\"p-9\">Execute some definitions, there will not be any output.</p></div>"]},
{"cell_type":"markdown", "metadata":{}, "source":["<div class=\"mathbook-content\"></div>"]},
{"cell_type":"markdown", "metadata":{}, "source":["<div class=\"mathbook-content\"><p id=\"p-10\">A volume computation.</p></div>"]},
{"cell_type":"markdown", "metadata":{}, "source":["<div class=\"mathbook-content\"></div>"]},
{"cell_type":"markdown", "metadata":{}, "source":["<div class=\"mathbook-content\"><p id=\"p-11\">The roots of a quadratic.</p></div>"]},
{"cell_type":"markdown", "metadata":{}, "source":["<div class=\"mathbook-content\"></div>"]},
{"cell_type":"markdown", "metadata":{}, "source":["<div class=\"mathbook-content\"><p id=\"p-12\">All done!</p></div>"]}
],
"nbformat": 4, "nbformat_minor": 0, "metadata": {
  "kernelspec": {
   "display_name": "Julia 0.6.0",
   "language": "julia",
   "name": "julia-0.6"
  },
  "language_info": {
   "file_extension": ".jl",
   "mimetype": "application/julia",
   "name": "julia",
   "version": "0.6.0"
  },
"name": "julia-hello.ipynb"}
}